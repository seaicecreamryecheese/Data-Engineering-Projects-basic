{
 "cells": [
  {
   "cell_type": "code",
   "execution_count": null,
   "id": "87d69eea-9448-46a1-b064-01762207afe9",
   "metadata": {
    "tags": []
   },
   "outputs": [],
   "source": [
    "import findspark\n",
    "findspark.init()"
   ]
  },
  {
   "cell_type": "code",
   "execution_count": null,
   "id": "2e12b0e8-ffd7-4bda-ab86-a98172ce6d51",
   "metadata": {
    "tags": []
   },
   "outputs": [],
   "source": [
    "from pyspark.sql import SparkSession, Row\n",
    "from pyspark.sql.functions import from_json, col\n",
    "from pyspark.sql.types import StructType, StructField, StringType, IntegerType, LongType\n",
    "\n",
    "# Initialize Spark session\n",
    "spark = SparkSession.builder \\\n",
    "    .appName(\"StructuredStreamingSales\") \\\n",
    "    .config(\"spark.cassandra.connection.host\", \"127.0.0.1\") \\\n",
    "    .config(\"spark.jars\", \"spark-cassandra-connector_2.12-3.3.0.jar\") \\\n",
    "    .config(\"spark.logLevel\", \"DEBUG\") \\\n",
    "    .getOrCreate()\n",
    "\n",
    "spark"
   ]
  },
  {
   "cell_type": "code",
   "execution_count": null,
   "id": "74f0ba1e",
   "metadata": {},
   "outputs": [],
   "source": [
    "# Define data\n",
    "data = [\n",
    "    {\n",
    "        \"Name\": \"John Doe\",\n",
    "        \"credits\": \"12\"\n",
    "    },\n",
    "    {\n",
    "        \"Name\": \"Jane Smith\",\n",
    "        \"credits\": \"10\"\n",
    "    }\n",
    "]\n",
    "\n",
    "cassandra_options = {\n",
    "    \"keyspace\": \"store\",  \n",
    "    \"table\": \"test\",  \n",
    "    \"cluster\": \"127.0.0.1:9042\"  \n",
    "}\n",
    "\n",
    "df = spark.read.csv(\"MOCK_DATA.csv\", header=True)"
   ]
  },
  {
   "cell_type": "code",
   "execution_count": null,
   "id": "4a48b374-6512-42be-ba67-cdb712ea8d7c",
   "metadata": {
    "tags": []
   },
   "outputs": [],
   "source": [
    "# Convert data to Row objects\n",
    "rows = [Row(**row) for row in data]\n",
    "\n",
    "# Create an RDD from the Row objects\n",
    "rdd = spark.sparkContext.parallelize(rows)\n",
    "\n",
    "# Create a DataFrame with the specified schema\n",
    "json_schema = StructType([\n",
    "    StructField(\"Name\", StringType(), False),\n",
    "    StructField(\"credits\", StringType(), False)\n",
    "])"
   ]
  },
  {
   "cell_type": "code",
   "execution_count": null,
   "id": "a5623faa",
   "metadata": {},
   "outputs": [],
   "source": [
    "keyspace = \"store\"\n",
    "table = \"fake\"\n",
    "df.show()\n",
    "\n",
    "cassandra_conf = {\n",
    "    \"spark.cassandra.connection.host\": \"127.0.0.1\",\n",
    "    \"spark.cassandra.connection.port\": \"9042\",\n",
    "    \"spark.cassandra.keyspace\": \"store\"\n",
    "}\n",
    "\n",
    "\n",
    "df.write \\\n",
    "    .format(\"org.apache.spark.sql.cassandra\") \\\n",
    "    .mode(\"append\") \\\n",
    "    .options(keyspace=\"store\", table=\"fake\") \\\n",
    "    .save()"
   ]
  }
 ],
 "metadata": {
  "kernelspec": {
   "display_name": "Python 3 (ipykernel)",
   "language": "python",
   "name": "python3"
  },
  "language_info": {
   "codemirror_mode": {
    "name": "ipython",
    "version": 3
   },
   "file_extension": ".py",
   "mimetype": "text/x-python",
   "name": "python",
   "nbconvert_exporter": "python",
   "pygments_lexer": "ipython3",
   "version": "3.10.12"
  }
 },
 "nbformat": 4,
 "nbformat_minor": 5
}
