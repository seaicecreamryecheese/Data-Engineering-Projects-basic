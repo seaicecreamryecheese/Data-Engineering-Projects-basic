{
 "cells": [
  {
   "cell_type": "code",
   "execution_count": 1,
   "id": "87d69eea-9448-46a1-b064-01762207afe9",
   "metadata": {
    "tags": []
   },
   "outputs": [],
   "source": [
    "import findspark\n",
    "findspark.init()"
   ]
  },
  {
   "cell_type": "code",
   "execution_count": null,
   "id": "2e12b0e8-ffd7-4bda-ab86-a98172ce6d51",
   "metadata": {
    "tags": []
   },
   "outputs": [],
   "source": [
    "from pyspark.sql import SparkSession, Row\n",
    "spark = SparkSession.builder \\\n",
    "    .appName(\"PySparkShell\") \\\n",
    "    .config(\"spark.jars.packages\", \"com.datastax.spark:spark-cassandra-connector_2.12:3.4.1\") \\\n",
    "    .config(\"spark.sql.extensions\", \"com.datastax.spark.connector.CassandraSparkExtensions\") \\\n",
    "    .config(\"spark.cassandra.connection.host\", \"127.0.0.1\") \\\n",
    "    .getOrCreate()\n",
    "\n",
    "spark"
   ]
  },
  {
   "cell_type": "code",
   "execution_count": 3,
   "id": "303a4d0a",
   "metadata": {},
   "outputs": [],
   "source": [
    "df = spark.read.format(\"org.apache.spark.sql.cassandra\").options(keyspace=\"live_feed\", table=\"live_table\").load()"
   ]
  },
  {
   "cell_type": "code",
   "execution_count": 4,
   "id": "4e2269a1",
   "metadata": {},
   "outputs": [
    {
     "name": "stderr",
     "output_type": "stream",
     "text": [
      "[Stage 1:=======================================>                   (2 + 1) / 3]\r"
     ]
    },
    {
     "name": "stdout",
     "output_type": "stream",
     "text": [
      "+--------------------+--------------------+---------------------+--------------------+---------+-----------+---------------+-------------+--------------------+\n",
      "|            order_id|          created_at|discount_or_promotion|               email| latitude|  longitude|           name|paymentmethod|         total_price|\n",
      "+--------------------+--------------------+---------------------+--------------------+---------+-----------+---------------+-------------+--------------------+\n",
      "|eb262bc7-89b1-4ca...|1970-01-20 21:02:...|                 true|samantha34@exampl...|37.319435| -79.966355|    Linda Smith|  credit card|372.0000000000000...|\n",
      "|032d2c64-a8ff-4ea...|1970-01-20 21:02:...|                 true|foxkevin@example.com|41.071368|-111.983774|    Donald Hill|         cash|900.0000000000000...|\n",
      "|36b2b543-a7ca-4d6...|1970-01-20 21:02:...|                false|angelaparsons@exa...|37.319435| -79.966355|  Gloria Taylor|         cash|521.0000000000000...|\n",
      "|5d061f1d-4988-4cf...|1970-01-20 21:02:...|                 true|anthony68@example...| 37.98224|-100.834492|Heather Randall|  credit card|778.0000000000000...|\n",
      "|60b7c3a2-5d17-47a...|1970-01-20 21:02:...|                 true|vstevenson@exampl...|37.240199|  -94.47462|    Frank Huynh|         cash|109.0000000000000...|\n",
      "|db3fed36-394e-409...|1970-01-20 21:02:...|                false|alvarezjames@exam...|37.240199|  -94.47462|   Cody Anthony|  credit card|139.0000000000000...|\n",
      "|ac26ecb4-a3a6-47e...|1970-01-20 21:02:...|                false| kevin94@example.org|37.319435| -79.966355| Margaret Davis|  credit card|202.0000000000000...|\n",
      "|d6cafcbd-fa63-497...|1970-01-20 21:02:...|                false|kenneth04@example...|37.240199|  -94.47462|Jonathan Mccall|         cash|290.0000000000000...|\n",
      "|637f7a7d-8649-4b8...|1970-01-20 21:02:...|                false|christie52@exampl...|41.071368|-111.983774|      Mike Wood|  credit card|497.0000000000000...|\n",
      "|5c99bc66-6e97-447...|1970-01-20 21:02:...|                false|  wpayne@example.org|41.071368|-111.983774|   Levi Spencer|  credit card|715.0000000000000...|\n",
      "|317dacd3-6917-464...|1970-01-20 21:02:...|                 true|parrishchristina@...|37.240199|  -94.47462|  Karen Johnson|         cash|981.0000000000000...|\n",
      "|1948b03c-a9e6-468...|1970-01-20 21:02:...|                false|heathersalas@exam...|37.319435| -79.966355|  Corey Aguirre|  credit card|77.00000000000000...|\n",
      "|b4867863-9500-4e5...|1970-01-20 21:02:...|                 true|stephen12@example...|41.071368|-111.983774|   Zachary West|  credit card|124.0000000000000...|\n",
      "|7a6cd9dd-9bc1-460...|1970-01-20 21:02:...|                 true|jessicajensen@exa...| 37.98224|-100.834492|   Patrick Bell|         cash|34.00000000000000...|\n",
      "|e6ff3ab3-276c-47a...|1970-01-20 21:02:...|                false|priscilla90@examp...|37.240199|  -94.47462|  Perry Coleman|         cash|460.0000000000000...|\n",
      "|5ffd6f6e-737e-4c9...|1970-01-20 21:02:...|                false|penajames@example...|41.071368|-111.983774|  Charles Jones|  credit card|98.00000000000000...|\n",
      "|8c7c0b82-2cd8-488...|1970-01-20 21:02:...|                 true|jcantrell@example...|37.319435| -79.966355|     Erin Arias|         cash|860.0000000000000...|\n",
      "|416efb91-0584-434...|1970-01-20 21:02:...|                false|mccarthyryan@exam...| 37.98224|-100.834492| James Robinson|  credit card|38.00000000000000...|\n",
      "|55612ed5-f79b-48a...|1970-01-20 21:02:...|                 true|amanda53@example.com| 37.98224|-100.834492|     Wendy Lamb|  credit card|977.0000000000000...|\n",
      "|5d3d446a-583f-402...|1970-01-20 21:02:...|                 true|  adam03@example.org| 37.98224|-100.834492| Rebecca Moreno|  credit card|204.0000000000000...|\n",
      "+--------------------+--------------------+---------------------+--------------------+---------+-----------+---------------+-------------+--------------------+\n",
      "only showing top 20 rows\n",
      "\n"
     ]
    },
    {
     "name": "stderr",
     "output_type": "stream",
     "text": [
      "                                                                                \r"
     ]
    }
   ],
   "source": [
    "df.show()"
   ]
  }
 ],
 "metadata": {
  "kernelspec": {
   "display_name": "Python 3 (ipykernel)",
   "language": "python",
   "name": "python3"
  },
  "language_info": {
   "codemirror_mode": {
    "name": "ipython",
    "version": 3
   },
   "file_extension": ".py",
   "mimetype": "text/x-python",
   "name": "python",
   "nbconvert_exporter": "python",
   "pygments_lexer": "ipython3",
   "version": "3.1.0"
  }
 },
 "nbformat": 4,
 "nbformat_minor": 5
}
