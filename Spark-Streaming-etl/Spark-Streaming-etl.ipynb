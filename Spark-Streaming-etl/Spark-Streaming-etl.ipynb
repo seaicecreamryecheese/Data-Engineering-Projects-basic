{
 "cells": [
  {
   "cell_type": "code",
   "execution_count": null,
   "id": "87d69eea-9448-46a1-b064-01762207afe9",
   "metadata": {
    "tags": []
   },
   "outputs": [],
   "source": [
    "import findspark\n",
    "findspark.init()"
   ]
  },
  {
   "cell_type": "code",
   "execution_count": null,
   "id": "2e12b0e8-ffd7-4bda-ab86-a98172ce6d51",
   "metadata": {
    "tags": []
   },
   "outputs": [],
   "source": [
    "from pyspark.sql import SparkSession\n",
    "from pyspark.sql.functions import from_json, col\n",
    "from pyspark.sql.types import StructType, StructField, StringType, IntegerType, LongType\n",
    "\n",
    "spark = SparkSession \\\n",
    "    .builder \\\n",
    "    .appName(\"StructuredNetworkWordCount\") \\\n",
    "    .getOrCreate()\n",
    "\n",
    "spark"
   ]
  },
  {
   "cell_type": "code",
   "execution_count": null,
   "id": "74f0ba1e",
   "metadata": {},
   "outputs": [],
   "source": [
    "json_schema = StructType([\n",
    "    StructField(\"Order_id\", StringType(), False),  \n",
    "    StructField(\"Name\", StringType(), False),\n",
    "    StructField(\"Email\", StringType(), False),  \n",
    "    StructField(\"latitude\", LongType(), True),\n",
    "    StructField(\"longitude\", LongType(), True),\n",
    "    StructField(\"created_at\", LongType(), True)\n",
    "])\n",
    "data_df = spark.createDataFrame([], json_schema)\n",
    "\n",
    "data_df.printSchema()"
   ]
  },
  {
   "cell_type": "code",
   "execution_count": null,
   "id": "4a48b374-6512-42be-ba67-cdb712ea8d7c",
   "metadata": {
    "tags": []
   },
   "outputs": [],
   "source": [
    "host = \"localhost\"\n",
    "port = 8888\n",
    "\n",
    "lines = spark.readStream \\\n",
    "    .format(\"socket\") \\\n",
    "    .option(\"host\", host) \\\n",
    "    .option(\"port\", port) \\\n",
    "    .load()\n",
    "\n",
    "lines.isStreaming()\n",
    "lines.printSchema()\n",
    "\n",
    "query = lines.writeStream \\\n",
    "    .outputMode(\"append\") \\\n",
    "    .foreach(lambda row: print(row.value)).start()\n",
    "query.awaitTermination()\n",
    "spark.stop()"
   ]
  }
 ],
 "metadata": {
  "kernelspec": {
   "display_name": "Python 3 (ipykernel)",
   "language": "python",
   "name": "python3"
  },
  "language_info": {
   "codemirror_mode": {
    "name": "ipython",
    "version": 3
   },
   "file_extension": ".py",
   "mimetype": "text/x-python",
   "name": "python",
   "nbconvert_exporter": "python",
   "pygments_lexer": "ipython3",
   "version": "3.10.12"
  }
 },
 "nbformat": 4,
 "nbformat_minor": 5
}
