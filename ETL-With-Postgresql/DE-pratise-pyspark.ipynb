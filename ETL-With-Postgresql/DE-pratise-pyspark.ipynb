{
 "cells": [
  {
   "cell_type": "code",
   "execution_count": 3,
   "id": "c18bbeaa-82a5-445e-8f96-01faa02fa936",
   "metadata": {
    "tags": []
   },
   "outputs": [],
   "source": [
    "from main import FileExtractPhase\n",
    "\n",
    "#spark = PysparkManager().CreateSparkSession()"
   ]
  },
  {
   "cell_type": "code",
   "execution_count": 1,
   "id": "1a9d8a30-7121-4200-8dff-367b075147bd",
   "metadata": {
    "tags": []
   },
   "outputs": [
    {
     "name": "stdout",
     "output_type": "stream",
     "text": [
      "23/08/03 12:02:32 WARN Utils: Your hostname, MSI resolves to a loopback address: 127.0.1.1; using 172.29.37.254 instead (on interface eth0)\n",
      "23/08/03 12:02:32 WARN Utils: Set SPARK_LOCAL_IP if you need to bind to another address\n",
      "23/08/03 12:02:33 WARN NativeCodeLoader: Unable to load native-hadoop library for your platform... using builtin-java classes where applicable\n"
     ]
    },
    {
     "name": "stderr",
     "output_type": "stream",
     "text": [
      "Setting default log level to \"WARN\".\n",
      "To adjust logging level use sc.setLogLevel(newLevel). For SparkR, use setLogLevel(newLevel).\n"
     ]
    }
   ],
   "source": [
    "import findspark\n",
    "findspark.init()\n",
    "\n",
    "from pyspark.sql import SparkSession\n",
    "\n",
    "spark = SparkSession.builder.master(\"local[*]\") \\\n",
    "                .appName(\"PySparkShell\") \\\n",
    "                .config(\"spark.jars\", \"postgresql-42.6.0.jar\") \\\n",
    "                .getOrCreate()"
   ]
  },
  {
   "cell_type": "code",
   "execution_count": 2,
   "id": "1786bb3a-7e2f-424e-9d79-951855707968",
   "metadata": {
    "tags": []
   },
   "outputs": [
    {
     "data": {
      "text/html": [
       "<style>pre { white-space: pre !important; }</style>"
      ],
      "text/plain": [
       "<IPython.core.display.HTML object>"
      ]
     },
     "metadata": {},
     "output_type": "display_data"
    }
   ],
   "source": [
    "from IPython.core.display import HTML\n",
    "display(HTML(\"<style>pre { white-space: pre !important; }</style>\"))"
   ]
  },
  {
   "cell_type": "code",
   "execution_count": 4,
   "id": "729bb7cb-a393-440c-ba7c-b8771959db2b",
   "metadata": {
    "tags": []
   },
   "outputs": [],
   "source": [
    "import configparser\n",
    "\n",
    "config = configparser.ConfigParser(); config.read('config.ini')\n",
    "database_url = config.get(\"DATABASE\", \"ConnectionUrl\")\n",
    "\n",
    "properties = {\n",
    "    \"driver\": config.get(\"DATABASE\", \"driver\"),\n",
    "    \"user\": config.get(\"DATABASE\", \"ConnectionUser\"),\n",
    "    \"password\": config.get(\"DATABASE\", \"ConnectionPassword\")\n",
    "}"
   ]
  },
  {
   "cell_type": "code",
   "execution_count": null,
   "id": "7b6a4741-c94e-414e-860c-55a150f69bd8",
   "metadata": {},
   "outputs": [],
   "source": [
    "table_name = \"warehouse.test\"\n",
    "\n",
    "df = spark.read.jdbc(database_url, table_name, properties=properties)"
   ]
  },
  {
   "cell_type": "code",
   "execution_count": 5,
   "id": "efa830e9-c068-440b-af06-b65115ee2a48",
   "metadata": {
    "tags": []
   },
   "outputs": [
    {
     "name": "stderr",
     "output_type": "stream",
     "text": [
      "                                                                                \r"
     ]
    }
   ],
   "source": [
    "df = FileExtractPhase(spark, directory=\"Tripdata-Source\")\n",
    "#df.cache()"
   ]
  },
  {
   "cell_type": "code",
   "execution_count": 11,
   "id": "afc88161-f90c-417c-b196-d76d1a448c8d",
   "metadata": {
    "tags": []
   },
   "outputs": [
    {
     "name": "stdout",
     "output_type": "stream",
     "text": [
      "root\n",
      " |-- ride_id: string (nullable = true)\n",
      " |-- rideable_type: string (nullable = true)\n",
      " |-- started_at: timestamp (nullable = true)\n",
      " |-- ended_at: timestamp (nullable = true)\n",
      " |-- start_station_name: string (nullable = true)\n",
      " |-- start_station_id: string (nullable = true)\n",
      " |-- end_station_name: string (nullable = true)\n",
      " |-- end_station_id: string (nullable = true)\n",
      " |-- start_lat: double (nullable = true)\n",
      " |-- start_lng: double (nullable = true)\n",
      " |-- end_lat: double (nullable = true)\n",
      " |-- end_lng: double (nullable = true)\n",
      " |-- member_casual: string (nullable = true)\n",
      "\n",
      "CPU times: user 5.84 ms, sys: 0 ns, total: 5.84 ms\n",
      "Wall time: 98.1 ms\n"
     ]
    },
    {
     "data": {
      "text/plain": [
       "107288"
      ]
     },
     "execution_count": 11,
     "metadata": {},
     "output_type": "execute_result"
    }
   ],
   "source": [
    "%%time\n",
    "df.printSchema()\n",
    "df.count()"
   ]
  },
  {
   "cell_type": "code",
   "execution_count": 8,
   "id": "1543b255-8a92-4994-99ad-6272ca37ce18",
   "metadata": {
    "tags": []
   },
   "outputs": [
    {
     "name": "stdout",
     "output_type": "stream",
     "text": [
      "23/08/03 12:12:22 WARN CacheManager: Asked to cache already cached data.\n"
     ]
    },
    {
     "data": {
      "text/plain": [
       "DataFrame[ride_id: string, rideable_type: string, started_at: timestamp, ended_at: timestamp, start_station_name: string, start_station_id: string, end_station_name: string, end_station_id: string, start_lat: double, start_lng: double, end_lat: double, end_lng: double, member_casual: string]"
      ]
     },
     "execution_count": 8,
     "metadata": {},
     "output_type": "execute_result"
    }
   ],
   "source": [
    "df.cache()"
   ]
  },
  {
   "cell_type": "code",
   "execution_count": 21,
   "id": "8d837089-bc9b-4381-8864-e6a42f6f8f7d",
   "metadata": {},
   "outputs": [
    {
     "name": "stdout",
     "output_type": "stream",
     "text": [
      "Data quality check passed\n"
     ]
    },
    {
     "data": {
      "text/plain": [
       "13"
      ]
     },
     "execution_count": 21,
     "metadata": {},
     "output_type": "execute_result"
    }
   ],
   "source": [
    "data_schema = df.schema\n",
    "\n",
    "for field in data_schema.fields:\n",
    "    null_count = df.filter(df[field.name].isNull()).count(); break\n",
    "if null_count == 0 and len(df.columns) == 13 and len(df.columns) == 13:\n",
    "    print(\"Data quality check passed\")\n",
    "else:\n",
    "    print(\"Data quality check failed\")\n",
    "\n",
    "column_count = len(df.columns)\n",
    "column_count"
   ]
  },
  {
   "cell_type": "code",
   "execution_count": 14,
   "id": "37d6f838-8a35-4078-92d7-c5952f2d2698",
   "metadata": {
    "tags": []
   },
   "outputs": [
    {
     "name": "stdout",
     "output_type": "stream",
     "text": [
      "+----------------+-------------+-------------------+-------------------+--------------------+----------------+--------------------+--------------+-----------------+------------------+------------------+------------------+-------------+\n",
      "|         ride_id|rideable_type|         started_at|           ended_at|  start_station_name|start_station_id|    end_station_name|end_station_id|        start_lat|         start_lng|           end_lat|           end_lng|member_casual|\n",
      "+----------------+-------------+-------------------+-------------------+--------------------+----------------+--------------------+--------------+-----------------+------------------+------------------+------------------+-------------+\n",
      "|0905B18B365C9D20| classic_bike|2023-01-28 09:18:10|2023-01-28 09:28:52|Hoboken Terminal ...|           HB101|       Hamilton Park|         JC009|40.73593758446329|-74.03030455112457|      40.727595966|     -74.044247311|       member|\n",
      "|B4F0562B05CB5404|electric_bike|2023-01-23 20:10:12|2023-01-23 20:18:27|Hoboken Terminal ...|           HB101|Southwest Park - ...|         HB401|40.73593758446329|-74.03030455112457| 40.73755127245804|-74.04166370630264|       member|\n",
      "|5ABF032895F5D87E| classic_bike|2023-01-29 15:27:04|2023-01-29 15:32:38|Hoboken Terminal ...|           HB101|  Marshall St & 2 St|         HB408|     40.735943913|      -74.03038311|         40.740802|        -74.042521|       member|\n",
      "|E7E1F9C53976D2F9| classic_bike|2023-01-24 18:35:08|2023-01-24 18:42:13|Hoboken Terminal ...|           HB101|       Hamilton Park|         JC009|     40.735985637|      -74.03036356|      40.727595966|     -74.044247311|       member|\n",
      "|323165780CA0734B| classic_bike|2023-01-21 20:44:09|2023-01-21 20:48:08|       Hamilton Park|           JC009|        Manila & 1st|         JC082|     40.727595966|     -74.044247311|40.721650724879986|-74.04288411140442|       member|\n",
      "|8B09969A4891D5F9| classic_bike|2023-01-18 08:11:38|2023-01-18 08:15:30|       Hamilton Park|           JC009|        Manila & 1st|         JC082|     40.727595966|     -74.044247311|40.721650724879986|-74.04288411140442|       member|\n",
      "|E8925D3061287322|electric_bike|2023-01-26 08:38:32|2023-01-26 08:45:09|       Hamilton Park|           JC009|  Marshall St & 2 St|         HB408|     40.727595966|     -74.044247311|         40.740802|        -74.042521|       member|\n",
      "|5AB1C193D3F6D12E| classic_bike|2023-01-22 12:36:31|2023-01-22 12:57:41|Hoboken Terminal ...|           HB101|    Marin Light Rail|         JC013|40.73593758446329|-74.03030455112457| 40.71458403535893|-74.04281705617905|       member|\n",
      "|65F9E37F8E28A6B2| classic_bike|2023-01-18 20:45:17|2023-01-18 20:52:18|      Journal Square|           JC103|     Christ Hospital|         JC034|         40.73367|          -74.0625|      40.734785818|     -74.050443636|       member|\n",
      "|DBDCD724E0A258F3| classic_bike|2023-01-17 13:45:17|2023-01-17 13:51:44|      Journal Square|           JC103|     Christ Hospital|         JC034|     40.733790278|     -74.062512875|      40.734785818|     -74.050443636|       member|\n",
      "+----------------+-------------+-------------------+-------------------+--------------------+----------------+--------------------+--------------+-----------------+------------------+------------------+------------------+-------------+\n",
      "only showing top 10 rows\n",
      "\n"
     ]
    }
   ],
   "source": [
    "# SQL Select query\n",
    "df.createOrReplaceTempView(\"mytable\")\n",
    "df.count()\n",
    "spark.sql(\"select * from mytable\").show(10)"
   ]
  },
  {
   "cell_type": "code",
   "execution_count": null,
   "id": "f5e0b4af-c478-46ba-853a-c589b19cd1a5",
   "metadata": {},
   "outputs": [],
   "source": [
    "from pyspark.sql.functions import col\n",
    "#df = df.withColumn(\"started_at\", col(\"started_at\").cast(\"string \"))\n",
    "#df = df.withColumn(\"ended_at\", col(\"ended_at\").cast(\"string \"))\n",
    "\n",
    "df.limit(5).toPandas().head()\n"
   ]
  },
  {
   "cell_type": "code",
   "execution_count": null,
   "id": "e884e975-ea5d-4084-ba16-fbf243751a34",
   "metadata": {},
   "outputs": [],
   "source": [
    "spark.catalog.clearCache()"
   ]
  },
  {
   "cell_type": "code",
   "execution_count": null,
   "id": "4f7e1386-a9bd-45f0-89f9-2389300f2e59",
   "metadata": {},
   "outputs": [],
   "source": [
    "data = [('James','','Smith','1991-04-01','M',3000),\n",
    "  ('Michael','Rose','','2000-05-19','M',4000),\n",
    "  ('Robert','','Williams','1978-09-05','M',4000),\n",
    "  ('Maria','Anne','Jones','1967-12-01','F',4000),\n",
    "  ('Jen','Mary','Brown','1980-02-17','F',-1)\n",
    "]\n",
    "\n",
    "columns = [\"firstname\",\"middlename\",\"lastname\",\"dob\",\"gender\",\"salary\"]\n",
    "df = spark.createDataFrame(data=data, schema = columns)\n",
    "df.show()"
   ]
  },
  {
   "cell_type": "code",
   "execution_count": 2,
   "id": "9f458359-285c-4b9e-aade-08f389e94f4d",
   "metadata": {
    "tags": []
   },
   "outputs": [],
   "source": [
    "spark.stop()"
   ]
  },
  {
   "cell_type": "code",
   "execution_count": null,
   "id": "36105858-495d-484c-8c64-4cbc1a9efcad",
   "metadata": {},
   "outputs": [],
   "source": []
  }
 ],
 "metadata": {
  "kernelspec": {
   "display_name": "Python 3 (ipykernel)",
   "language": "python",
   "name": "python3"
  },
  "language_info": {
   "codemirror_mode": {
    "name": "ipython",
    "version": 3
   },
   "file_extension": ".py",
   "mimetype": "text/x-python",
   "name": "python",
   "nbconvert_exporter": "python",
   "pygments_lexer": "ipython3",
   "version": "3.10.12"
  }
 },
 "nbformat": 4,
 "nbformat_minor": 5
}
