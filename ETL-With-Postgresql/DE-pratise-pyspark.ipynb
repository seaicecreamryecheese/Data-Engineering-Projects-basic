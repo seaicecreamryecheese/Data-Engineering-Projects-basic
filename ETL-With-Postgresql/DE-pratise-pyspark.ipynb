{
 "cells": [
  {
   "cell_type": "code",
   "execution_count": null,
   "id": "c18bbeaa-82a5-445e-8f96-01faa02fa936",
   "metadata": {},
   "outputs": [],
   "source": [
    "from main import *\n",
    "\n",
    "spark = PysparkManager().CreateSparkSession()"
   ]
  },
  {
   "cell_type": "code",
   "execution_count": 1,
   "id": "1a9d8a30-7121-4200-8dff-367b075147bd",
   "metadata": {},
   "outputs": [
    {
     "name": "stderr",
     "output_type": "stream",
     "text": [
      "23/06/22 14:27:32 WARN Utils: Your hostname, MSI resolves to a loopback address: 127.0.1.1; using 172.30.45.217 instead (on interface eth0)\n",
      "23/06/22 14:27:32 WARN Utils: Set SPARK_LOCAL_IP if you need to bind to another address\n",
      "23/06/22 14:27:33 WARN NativeCodeLoader: Unable to load native-hadoop library for your platform... using builtin-java classes where applicable\n",
      "Setting default log level to \"WARN\".\n",
      "To adjust logging level use sc.setLogLevel(newLevel). For SparkR, use setLogLevel(newLevel).\n"
     ]
    }
   ],
   "source": [
    "import findspark\n",
    "findspark.init()\n",
    "\n",
    "from pyspark.sql import SparkSession\n",
    "\n",
    "spark = SparkSession.builder \\\n",
    "    .appName(\"PySparkShell\") \\\n",
    "    .config(\"spark.jars\", \"postgresql-42.6.0.jar\") \\\n",
    "    .getOrCreate()"
   ]
  },
  {
   "cell_type": "code",
   "execution_count": 2,
   "id": "1786bb3a-7e2f-424e-9d79-951855707968",
   "metadata": {},
   "outputs": [
    {
     "data": {
      "text/html": [
       "<style>pre { white-space: pre !important; }</style>"
      ],
      "text/plain": [
       "<IPython.core.display.HTML object>"
      ]
     },
     "metadata": {},
     "output_type": "display_data"
    }
   ],
   "source": [
    "from IPython.core.display import HTML\n",
    "display(HTML(\"<style>pre { white-space: pre !important; }</style>\"))"
   ]
  },
  {
   "cell_type": "code",
   "execution_count": 7,
   "id": "729bb7cb-a393-440c-ba7c-b8771959db2b",
   "metadata": {},
   "outputs": [],
   "source": [
    "url = \"jdbc:postgresql://database-postgres-01.cf9jbrwo2i3x.us-east-1.rds.amazonaws.com:5432/jdbc-test\"\n",
    "\n",
    "properties = {\n",
    "    \"user\": \"test-user\",\n",
    "    \"password\": \"password\",\n",
    "    \"driver\": \"org.postgresql.Driver\"\n",
    "}"
   ]
  },
  {
   "cell_type": "code",
   "execution_count": null,
   "id": "7b6a4741-c94e-414e-860c-55a150f69bd8",
   "metadata": {},
   "outputs": [],
   "source": [
    "table_name = \"actor1\"\n",
    "\n",
    "df = spark.read.jdbc(url, table_name, properties=properties)"
   ]
  },
  {
   "cell_type": "code",
   "execution_count": 8,
   "id": "f7cc57d6-5f94-416b-b9ea-7a766ad86c4e",
   "metadata": {},
   "outputs": [],
   "source": [
    "df = spark.read.option(\"header\",True) \\\n",
    "                  .format(\"csv\") \\\n",
    "                  .load(\"username.csv\")"
   ]
  },
  {
   "cell_type": "code",
   "execution_count": 9,
   "id": "efa830e9-c068-440b-af06-b65115ee2a48",
   "metadata": {},
   "outputs": [
    {
     "name": "stdout",
     "output_type": "stream",
     "text": [
      "root\n",
      " |-- UUID: string (nullable = true)\n",
      " |-- Name: string (nullable = true)\n",
      " |-- Age: string (nullable = true)\n",
      " |-- EmailID: string (nullable = true)\n",
      "\n"
     ]
    }
   ],
   "source": [
    "#df = FileExtactPhase(directory=\"Tripdata-Source\")\n",
    "\n",
    "df.printSchema()"
   ]
  },
  {
   "cell_type": "code",
   "execution_count": 12,
   "id": "8d837089-bc9b-4381-8864-e6a42f6f8f7d",
   "metadata": {},
   "outputs": [
    {
     "name": "stderr",
     "output_type": "stream",
     "text": [
      "                                                                                \r"
     ]
    }
   ],
   "source": [
    "df.write.jdbc(url, properties=properties, table=\"users\",mode=\"overwrite\")"
   ]
  },
  {
   "cell_type": "code",
   "execution_count": null,
   "id": "37d6f838-8a35-4078-92d7-c5952f2d2698",
   "metadata": {},
   "outputs": [],
   "source": [
    "# SQL Select query\n",
    "df.createOrReplaceTempView(\"mytable\")\n",
    "spark.sql(\"select count(*) from mytable\").show(5)"
   ]
  },
  {
   "cell_type": "code",
   "execution_count": null,
   "id": "f5e0b4af-c478-46ba-853a-c589b19cd1a5",
   "metadata": {},
   "outputs": [],
   "source": [
    "df.limit(5).toPandas().tail()"
   ]
  },
  {
   "cell_type": "code",
   "execution_count": null,
   "id": "e884e975-ea5d-4084-ba16-fbf243751a34",
   "metadata": {},
   "outputs": [],
   "source": [
    "spark.catalog.clearCache()"
   ]
  },
  {
   "cell_type": "code",
   "execution_count": null,
   "id": "4f7e1386-a9bd-45f0-89f9-2389300f2e59",
   "metadata": {},
   "outputs": [
    {
     "name": "stderr",
     "output_type": "stream",
     "text": [
      "----------------------------------------\n",
      "Exception occurred during processing of request from ('127.0.0.1', 52326)\n",
      "Traceback (most recent call last):\n",
      "  File \"/home/sooraj/miniconda3/envs/de_env/lib/python3.11/socketserver.py\", line 317, in _handle_request_noblock\n",
      "    self.process_request(request, client_address)\n",
      "  File \"/home/sooraj/miniconda3/envs/de_env/lib/python3.11/socketserver.py\", line 348, in process_request\n",
      "    self.finish_request(request, client_address)\n",
      "  File \"/home/sooraj/miniconda3/envs/de_env/lib/python3.11/socketserver.py\", line 361, in finish_request\n",
      "    self.RequestHandlerClass(request, client_address, self)\n",
      "  File \"/home/sooraj/miniconda3/envs/de_env/lib/python3.11/socketserver.py\", line 755, in __init__\n",
      "    self.handle()\n",
      "  File \"/home/sooraj/miniconda3/envs/de_env/lib/python3.11/site-packages/pyspark/accumulators.py\", line 281, in handle\n",
      "    poll(accum_updates)\n",
      "  File \"/home/sooraj/miniconda3/envs/de_env/lib/python3.11/site-packages/pyspark/accumulators.py\", line 253, in poll\n",
      "    if func():\n",
      "       ^^^^^^\n",
      "  File \"/home/sooraj/miniconda3/envs/de_env/lib/python3.11/site-packages/pyspark/accumulators.py\", line 257, in accum_updates\n",
      "    num_updates = read_int(self.rfile)\n",
      "                  ^^^^^^^^^^^^^^^^^^^^\n",
      "  File \"/home/sooraj/miniconda3/envs/de_env/lib/python3.11/site-packages/pyspark/serializers.py\", line 596, in read_int\n",
      "    raise EOFError\n",
      "EOFError\n",
      "----------------------------------------\n"
     ]
    }
   ],
   "source": [
    "data = [('James','','Smith','1991-04-01','M',3000),\n",
    "  ('Michael','Rose','','2000-05-19','M',4000),\n",
    "  ('Robert','','Williams','1978-09-05','M',4000),\n",
    "  ('Maria','Anne','Jones','1967-12-01','F',4000),\n",
    "  ('Jen','Mary','Brown','1980-02-17','F',-1)\n",
    "]\n",
    "\n",
    "columns = [\"firstname\",\"middlename\",\"lastname\",\"dob\",\"gender\",\"salary\"]\n",
    "df = spark.createDataFrame(data=data, schema = columns)\n",
    "df.show()"
   ]
  },
  {
   "cell_type": "code",
   "execution_count": null,
   "id": "fa1585da-e1db-4cf7-b2e1-cfccfc57fdc3",
   "metadata": {},
   "outputs": [],
   "source": [
    "df.cache()"
   ]
  },
  {
   "cell_type": "code",
   "execution_count": null,
   "id": "9f458359-285c-4b9e-aade-08f389e94f4d",
   "metadata": {},
   "outputs": [],
   "source": [
    "spark.stop()"
   ]
  }
 ],
 "metadata": {
  "kernelspec": {
   "display_name": "Python 3 (ipykernel)",
   "language": "python",
   "name": "python3"
  },
  "language_info": {
   "codemirror_mode": {
    "name": "ipython",
    "version": 3
   },
   "file_extension": ".py",
   "mimetype": "text/x-python",
   "name": "python",
   "nbconvert_exporter": "python",
   "pygments_lexer": "ipython3",
   "version": "3.11.3"
  }
 },
 "nbformat": 4,
 "nbformat_minor": 5
}
