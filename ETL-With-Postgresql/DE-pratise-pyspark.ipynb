{
 "cells": [
  {
   "cell_type": "code",
   "execution_count": null,
   "id": "c18bbeaa-82a5-445e-8f96-01faa02fa936",
   "metadata": {},
   "outputs": [],
   "source": [
    "from main import *\n",
    "import configparser\n",
    "\n",
    "#spark = PysparkManager().CreateSparkSession()"
   ]
  },
  {
   "cell_type": "code",
   "execution_count": null,
   "id": "1a9d8a30-7121-4200-8dff-367b075147bd",
   "metadata": {},
   "outputs": [],
   "source": [
    "import findspark\n",
    "findspark.init()\n",
    "\n",
    "from pyspark.sql import SparkSession\n",
    "\n",
    "spark = SparkSession.builder \\\n",
    "    .appName(\"PySparkShell\") \\\n",
    "    .config(\"spark.jars\", \"postgresql-42.6.0.jar\") \\\n",
    "    .getOrCreate()"
   ]
  },
  {
   "cell_type": "code",
   "execution_count": null,
   "id": "1786bb3a-7e2f-424e-9d79-951855707968",
   "metadata": {},
   "outputs": [],
   "source": [
    "from IPython.core.display import HTML\n",
    "display(HTML(\"<style>pre { white-space: pre !important; }</style>\"))"
   ]
  },
  {
   "cell_type": "code",
   "execution_count": null,
   "id": "729bb7cb-a393-440c-ba7c-b8771959db2b",
   "metadata": {},
   "outputs": [],
   "source": [
    "config = configparser.ConfigParser(); config.read('config.ini')\n",
    "database_url = config.get(\"DATABASE\", \"ConnectionUrl\")\n",
    "\n",
    "properties = {\n",
    "    \"driver\": config.get(\"DATABASE\", \"driver\"),\n",
    "    \"user\": config.get(\"DATABASE\", \"ConnectionUser\"),\n",
    "    \"password\": config.get(\"DATABASE\", \"ConnectionPassword\")\n",
    "}"
   ]
  },
  {
   "cell_type": "code",
   "execution_count": null,
   "id": "7b6a4741-c94e-414e-860c-55a150f69bd8",
   "metadata": {},
   "outputs": [],
   "source": [
    "table_name = \"warehouse.testdb\"\n",
    "\n",
    "df = spark.read.jdbc(url, table_name, properties=properties)"
   ]
  },
  {
   "cell_type": "code",
   "execution_count": null,
   "id": "efa830e9-c068-440b-af06-b65115ee2a48",
   "metadata": {},
   "outputs": [],
   "source": [
    "df = FileExtactPhase(directory=\"Tripdata-Source\")\n",
    "\n",
    "df.printSchema()\n",
    "df.count()"
   ]
  },
  {
   "cell_type": "code",
   "execution_count": null,
   "id": "8d837089-bc9b-4381-8864-e6a42f6f8f7d",
   "metadata": {},
   "outputs": [],
   "source": [
    "df.write.jdbc(url, properties=properties, table=\"warehouse.testdb\",mode=\"overwrite\")"
   ]
  },
  {
   "cell_type": "code",
   "execution_count": null,
   "id": "37d6f838-8a35-4078-92d7-c5952f2d2698",
   "metadata": {},
   "outputs": [],
   "source": [
    "# SQL Select query\n",
    "#df.createOrReplaceTempView(\"mytable\")\n",
    "df.count()\n",
    "#spark.sql(\"select * from mytable\").show(10)"
   ]
  },
  {
   "cell_type": "code",
   "execution_count": null,
   "id": "f5e0b4af-c478-46ba-853a-c589b19cd1a5",
   "metadata": {},
   "outputs": [],
   "source": [
    "df.limit(5).toPandas().head()"
   ]
  },
  {
   "cell_type": "code",
   "execution_count": null,
   "id": "e884e975-ea5d-4084-ba16-fbf243751a34",
   "metadata": {},
   "outputs": [],
   "source": [
    "spark.catalog.clearCache()"
   ]
  },
  {
   "cell_type": "code",
   "execution_count": null,
   "id": "4f7e1386-a9bd-45f0-89f9-2389300f2e59",
   "metadata": {},
   "outputs": [],
   "source": [
    "data = [('James','','Smith','1991-04-01','M',3000),\n",
    "  ('Michael','Rose','','2000-05-19','M',4000),\n",
    "  ('Robert','','Williams','1978-09-05','M',4000),\n",
    "  ('Maria','Anne','Jones','1967-12-01','F',4000),\n",
    "  ('Jen','Mary','Brown','1980-02-17','F',-1)\n",
    "]\n",
    "\n",
    "columns = [\"firstname\",\"middlename\",\"lastname\",\"dob\",\"gender\",\"salary\"]\n",
    "df = spark.createDataFrame(data=data, schema = columns)\n",
    "df.show()"
   ]
  },
  {
   "cell_type": "code",
   "execution_count": null,
   "id": "fa1585da-e1db-4cf7-b2e1-cfccfc57fdc3",
   "metadata": {},
   "outputs": [],
   "source": [
    "df.cache()"
   ]
  },
  {
   "cell_type": "code",
   "execution_count": null,
   "id": "9f458359-285c-4b9e-aade-08f389e94f4d",
   "metadata": {},
   "outputs": [],
   "source": [
    "spark.stop()"
   ]
  }
 ],
 "metadata": {
  "kernelspec": {
   "display_name": "Python 3 (ipykernel)",
   "language": "python",
   "name": "python3"
  },
  "language_info": {
   "codemirror_mode": {
    "name": "ipython",
    "version": 3
   },
   "file_extension": ".py",
   "mimetype": "text/x-python",
   "name": "python",
   "nbconvert_exporter": "python",
   "pygments_lexer": "ipython3",
   "version": "3.11.3"
  }
 },
 "nbformat": 4,
 "nbformat_minor": 5
}
